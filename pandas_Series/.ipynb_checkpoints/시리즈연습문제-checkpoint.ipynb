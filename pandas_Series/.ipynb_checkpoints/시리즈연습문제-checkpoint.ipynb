{
 "cells": [
  {
   "cell_type": "code",
   "execution_count": 2,
   "metadata": {},
   "outputs": [],
   "source": [
    "import pandas as pd\n",
    "import numpy as np\n",
    "\n",
    "##시각화\n",
    "import matplotlib.pyplot as plt\n",
    "import matplotlib\n",
    "matplotlib.rcParams['font.family']='Malgun Gothic'\n",
    "matplotlib.rcParams['axes.unicode_minus'] = False"
   ]
  },
  {
   "cell_type": "code",
   "execution_count": 3,
   "metadata": {
    "collapsed": true
   },
   "outputs": [
    {
     "data": {
      "text/plain": [
       "홍길동     90\n",
       "이순신     90\n",
       "임꺽정     55\n",
       "정난정     60\n",
       "이이      76\n",
       "이황      80\n",
       "정도전     76\n",
       "김철수1    88\n",
       "김철수2    30\n",
       "김철수3    25\n",
       "Name: 국어점수, dtype: int64"
      ]
     },
     "execution_count": 3,
     "metadata": {},
     "output_type": "execute_result"
    }
   ],
   "source": [
    "sr = pd.Series( [90,90,55,60,76,80,76,88,30,25],\n",
    "               name=\"국어점수\" )\n",
    "sr.index=['홍길동','이순신','임꺽정','정난정',\n",
    "         '이이','이황','정도전','김철수1',\n",
    "          '김철수2','김철수3']\n",
    "sr"
   ]
  },
  {
   "cell_type": "code",
   "execution_count": 4,
   "metadata": {
    "scrolled": false
   },
   "outputs": [
    {
     "data": {
      "text/plain": [
       "김철수1    88\n",
       "김철수2    30\n",
       "김철수3    25\n",
       "이순신     90\n",
       "이이      76\n",
       "이황      80\n",
       "임꺽정     55\n",
       "정난정     60\n",
       "정도전     76\n",
       "홍길동     90\n",
       "Name: 국어점수, dtype: int64"
      ]
     },
     "execution_count": 4,
     "metadata": {},
     "output_type": "execute_result"
    }
   ],
   "source": [
    "# 1. 이름순으로 정렬하시요\n",
    "sr.sort_index()"
   ]
  },
  {
   "cell_type": "code",
   "execution_count": 5,
   "metadata": {},
   "outputs": [
    {
     "data": {
      "text/plain": [
       "90"
      ]
     },
     "execution_count": 5,
     "metadata": {},
     "output_type": "execute_result"
    }
   ],
   "source": [
    "sr['홍길동']"
   ]
  },
  {
   "cell_type": "code",
   "execution_count": 8,
   "metadata": {},
   "outputs": [
    {
     "name": "stdout",
     "output_type": "stream",
     "text": [
      "이름입력:ㅁㅁㅁ\n",
      "이름이 없습니다\n"
     ]
    }
   ],
   "source": [
    "# 2. 키보드로 입력받아 검색된 이름의 점수를 구하시요\n",
    "# 이름:홍길동\n",
    "# 70\n",
    "try:\n",
    "    name=input('이름입력:')\n",
    "    print( sr[name] )\n",
    "#     sr.loc[name]\n",
    "except Exception as err:\n",
    "    print(\"이름이 없습니다\")"
   ]
  },
  {
   "cell_type": "code",
   "execution_count": null,
   "metadata": {},
   "outputs": [],
   "source": [
    "3. 데이터를 다음과 같이 출력하시요\n",
    "(0~59:F , 60~69:D, 70~79:C, 80~89:B, 90~100:A\n",
    "---------------------\n",
    "이름 국어 학점\n",
    "---------------------\n",
    "홍길동 70 C\n",
    "...\n",
    "김철수3 25 F"
   ]
  },
  {
   "cell_type": "code",
   "execution_count": 11,
   "metadata": {
    "collapsed": true
   },
   "outputs": [
    {
     "data": {
      "text/plain": [
       "홍길동     A\n",
       "이순신     A\n",
       "임꺽정     F\n",
       "정난정     D\n",
       "이이      C\n",
       "이황      B\n",
       "정도전     C\n",
       "김철수1    B\n",
       "김철수2    F\n",
       "김철수3    F\n",
       "Name: 국어점수, dtype: category\n",
       "Categories (5, object): ['F' < 'D' < 'C' < 'B' < 'A']"
      ]
     },
     "execution_count": 11,
     "metadata": {},
     "output_type": "execute_result"
    }
   ],
   "source": [
    "pd.cut( sr, [-1,59,69,79,89,100], labels=['F','D','C','B','A'] )"
   ]
  },
  {
   "cell_type": "code",
   "execution_count": 9,
   "metadata": {
    "collapsed": true
   },
   "outputs": [
    {
     "data": {
      "text/plain": [
       "홍길동     A\n",
       "이순신     A\n",
       "임꺽정     F\n",
       "정난정     D\n",
       "이이      C\n",
       "이황      B\n",
       "정도전     C\n",
       "김철수1    B\n",
       "김철수2    F\n",
       "김철수3    F\n",
       "Name: 국어점수, dtype: object"
      ]
     },
     "execution_count": 9,
     "metadata": {},
     "output_type": "execute_result"
    }
   ],
   "source": [
    "def get_grade(v):\n",
    "    if v >=90:\n",
    "        return 'A'\n",
    "    elif (v>= 80) & (v<90): # 80<=v<90\n",
    "        return 'B'\n",
    "    elif (v>= 70) & (v<80):\n",
    "        return 'C'\n",
    "    elif (v>= 60) & (v<70):\n",
    "        return 'D'\n",
    "    else:\n",
    "        return 'F'\n",
    "rSr = sr.apply( get_grade )\n",
    "rSr"
   ]
  },
  {
   "cell_type": "code",
   "execution_count": 10,
   "metadata": {},
   "outputs": [
    {
     "name": "stdout",
     "output_type": "stream",
     "text": [
      "==================================\n",
      "이름    국어  학점\n",
      "==================================\n",
      "홍길동\t90\tA\n",
      "이순신\t90\tA\n",
      "임꺽정\t55\tF\n",
      "정난정\t60\tD\n",
      "이이\t76\tC\n",
      "이황\t80\tB\n",
      "정도전\t76\tC\n",
      "김철수1\t88\tB\n",
      "김철수2\t30\tF\n",
      "김철수3\t25\tF\n"
     ]
    }
   ],
   "source": [
    "print(\"==================================\")\n",
    "print(\"이름    국어  학점\")\n",
    "print(\"==================================\")\n",
    "for n, k in sr.items():\n",
    "    print(n, k, rSr[n], sep='\\t')"
   ]
  },
  {
   "cell_type": "code",
   "execution_count": null,
   "metadata": {},
   "outputs": [],
   "source": [
    "4. 국어 점수 50점이하는 가산점20를 부여하고\n",
    "국어 점수 50점초과는 가산점10를 부여하시요"
   ]
  },
  {
   "cell_type": "code",
   "execution_count": 12,
   "metadata": {},
   "outputs": [
    {
     "data": {
      "text/plain": [
       "홍길동     110\n",
       "이순신     110\n",
       "임꺽정      75\n",
       "정난정      80\n",
       "이이       96\n",
       "이황      100\n",
       "정도전      96\n",
       "김철수1    108\n",
       "김철수2     40\n",
       "김철수3     35\n",
       "Name: 국어점수, dtype: int64"
      ]
     },
     "execution_count": 12,
     "metadata": {},
     "output_type": "execute_result"
    }
   ],
   "source": [
    "sr.apply(lambda v: (v +20) if v>=50 else (v+10) )"
   ]
  },
  {
   "cell_type": "code",
   "execution_count": 13,
   "metadata": {},
   "outputs": [
    {
     "data": {
      "text/plain": [
       "array([29.5, 76. , 90. ])"
      ]
     },
     "execution_count": 13,
     "metadata": {},
     "output_type": "execute_result"
    }
   ],
   "source": [
    "#5. 국어점수 10%, 50%, 90%에 해당하는 값을 구하시요\n",
    "sr.quantile(q=[0.1, 0.5, 0.9]).values"
   ]
  },
  {
   "cell_type": "code",
   "execution_count": 14,
   "metadata": {
    "scrolled": false
   },
   "outputs": [
    {
     "data": {
      "text/plain": [
       "90    2\n",
       "76    2\n",
       "30    1\n",
       "60    1\n",
       "25    1\n",
       "88    1\n",
       "55    1\n",
       "80    1\n",
       "Name: 국어점수, dtype: int64"
      ]
     },
     "execution_count": 14,
     "metadata": {},
     "output_type": "execute_result"
    }
   ],
   "source": [
    "#6. 각 국어점수에 대한 갯수 를 구하시요\n",
    "sr.value_counts()"
   ]
  },
  {
   "cell_type": "code",
   "execution_count": 15,
   "metadata": {
    "scrolled": true
   },
   "outputs": [
    {
     "data": {
      "image/png": "[encoded data removed]",
      "text/plain": [
       "<Figure size 432x288 with 1 Axes>"
      ]
     },
     "metadata": {
      "needs_background": "light"
     },
     "output_type": "display_data"
    }
   ],
   "source": [
    "# 7. 국어점수에 대한 boxplot을 그리시요.\n",
    "sr.plot(kind='box')\n",
    "plt.show()"
   ]
  },
  {
   "cell_type": "code",
   "execution_count": 16,
   "metadata": {},
   "outputs": [
    {
     "data": {
      "text/plain": [
       "[0, 10, 20, 30, 40, 50, 60, 70, 80, 90, 100]"
      ]
     },
     "execution_count": 16,
     "metadata": {},
     "output_type": "execute_result"
    }
   ],
   "source": [
    "list( range(0,101,10) )"
   ]
  },
  {
   "cell_type": "code",
   "execution_count": 31,
   "metadata": {},
   "outputs": [
    {
     "data": {
      "text/plain": [
       "(0, 10]      0\n",
       "(10, 20]     0\n",
       "(20, 30]     2\n",
       "(30, 40]     0\n",
       "(40, 50]     0\n",
       "(50, 60]     2\n",
       "(60, 70]     0\n",
       "(70, 80]     3\n",
       "(80, 90]     3\n",
       "(90, 100]    0\n",
       "Name: 국어점수, dtype: int64"
      ]
     },
     "execution_count": 31,
     "metadata": {},
     "output_type": "execute_result"
    }
   ],
   "source": [
    "result = pd.cut( sr, range(0,101,10)).value_counts().sort_index()\n",
    "result"
   ]
  },
  {
   "cell_type": "code",
   "execution_count": 43,
   "metadata": {
    "collapsed": true
   },
   "outputs": [
    {
     "data": {
      "text/plain": [
       "(0, 10]       0\n",
       "(10, 20]      0\n",
       "(20, 30]      2\n",
       "(30, 40]      2\n",
       "(40, 50]      2\n",
       "(50, 60]      4\n",
       "(60, 70]      4\n",
       "(70, 80]      7\n",
       "(80, 90]     10\n",
       "(90, 100]    10\n",
       "Name: 국어점수, dtype: int64"
      ]
     },
     "execution_count": 43,
     "metadata": {},
     "output_type": "execute_result"
    }
   ],
   "source": [
    "c = result.cumsum()\n",
    "c"
   ]
  },
  {
   "cell_type": "code",
   "execution_count": 34,
   "metadata": {
    "collapsed": true
   },
   "outputs": [
    {
     "data": {
      "text/plain": [
       "(0, 10]      0.0\n",
       "(10, 20]     0.0\n",
       "(20, 30]     0.2\n",
       "(30, 40]     0.0\n",
       "(40, 50]     0.0\n",
       "(50, 60]     0.2\n",
       "(60, 70]     0.0\n",
       "(70, 80]     0.3\n",
       "(80, 90]     0.3\n",
       "(90, 100]    0.0\n",
       "Name: 국어점수, dtype: float64"
      ]
     },
     "execution_count": 34,
     "metadata": {},
     "output_type": "execute_result"
    }
   ],
   "source": [
    "r = result/result.sum()\n",
    "r"
   ]
  },
  {
   "cell_type": "code",
   "execution_count": 71,
   "metadata": {},
   "outputs": [
    {
     "name": "stdout",
     "output_type": "stream",
     "text": [
      "0~ 10\n",
      "10~ 20\n",
      "20~ 30\n",
      "30~ 40\n",
      "40~ 50\n",
      "50~ 60\n",
      "60~ 70\n",
      "70~ 80\n",
      "80~ 90\n",
      "90~ 100\n"
     ]
    }
   ],
   "source": [
    "for n in result.index:\n",
    "    print( f'{n.left}~{n.right}' )"
   ]
  },
  {
   "cell_type": "code",
   "execution_count": 79,
   "metadata": {
    "scrolled": true
   },
   "outputs": [
    {
     "name": "stdout",
     "output_type": "stream",
     "text": [
      " 0~ 10  5.0    0    0  0.0\n",
      "10~ 20 15.0    0    0  0.0\n",
      "20~ 30 25.0    2    2  0.2\n",
      "30~ 40 35.0    0    2  0.0\n",
      "40~ 50 45.0    0    2  0.0\n",
      "50~ 60 55.0    2    4  0.2\n",
      "60~ 70 65.0    0    4  0.0\n",
      "70~ 80 75.0    3    7  0.3\n",
      "80~ 90 85.0    3   10  0.3\n",
      "90~100 95.0    0   10  0.0\n"
     ]
    }
   ],
   "source": [
    "for i,k,l,m in zip(  result.index,result.values, c.values, r.values   ):\n",
    "    print( f'{i.left:2}~{i.right:3}{(i.left+i.right)/2:5}{k:5}{l:5}{m:5}' )"
   ]
  },
  {
   "cell_type": "code",
   "execution_count": 54,
   "metadata": {},
   "outputs": [],
   "source": [
    "# 8. 과일의 비율을 파이차트로 그리시요\n",
    "fruit=pd.Series( [10,20,30,50],index=['사과','딸기','포도','수박'] ,name='과일')"
   ]
  },
  {
   "cell_type": "code",
   "execution_count": 55,
   "metadata": {
    "scrolled": false
   },
   "outputs": [
    {
     "data": {
      "image/png": "[encoded data removed]",
      "text/plain": [
       "<Figure size 432x288 with 1 Axes>"
      ]
     },
     "metadata": {},
     "output_type": "display_data"
    }
   ],
   "source": [
    "fruit.plot(kind='pie',autopct='%.2f')\n",
    "plt.show()"
   ]
  }
 ],
 "metadata": {
  "kernelspec": {
   "display_name": "Python 3",
   "language": "python",
   "name": "python3"
  },
  "language_info": {
   "codemirror_mode": {
    "name": "ipython",
    "version": 3
   },
   "file_extension": ".py",
   "mimetype": "text/x-python",
   "name": "python",
   "nbconvert_exporter": "python",
   "pygments_lexer": "ipython3",
   "version": "3.8.5"
  }
 },
 "nbformat": 4,
 "nbformat_minor": 4
}
