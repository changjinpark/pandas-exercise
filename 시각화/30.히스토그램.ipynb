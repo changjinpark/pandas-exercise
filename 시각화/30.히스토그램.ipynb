{
 "cells": [
  {
   "cell_type": "code",
   "execution_count": 1,
   "metadata": {},
   "outputs": [],
   "source": [
    "import pandas as pd\n",
    "import numpy as np\n",
    "import matplotlib.pyplot as plt\n",
    "import matplotlib\n",
    "matplotlib.rcParams['font.family']='Malgun Gothic'\n",
    "matplotlib.rcParams['axes.unicode_minus']=False"
   ]
  },
  {
   "cell_type": "code",
   "execution_count": 2,
   "metadata": {},
   "outputs": [
    {
     "data": {
      "text/plain": [
       "array([ 67,  42,  39,  35,  94,  46,  31,  36,  55,  80,  50,  48,  41,\n",
       "        58,  59,  44,  80,  98,  43,  39,  37,  93,  91,  52,  87,  31,\n",
       "        30,  90,  38,  43,  77,  60,  33, 100,  51,  79,  87,  33,  98,\n",
       "        54,  73,  56,  82,  71,  45,  94,  98,  55,  37,  56,  55,  52,\n",
       "        39,  97,  53,  57,  67,  87,  68,  38,  62,  64,  40,  53,  45,\n",
       "        55,  92,  76,  62,  53,  85,  95,  33,  30,  36,  82, 100,  32,\n",
       "        51,  37,  73,  50,  60,  66,  37,  75,  98,  87,  43,  40,  53,\n",
       "        37,  54,  50,  62,  42,  95,  90,  54,  32])"
      ]
     },
     "execution_count": 2,
     "metadata": {},
     "output_type": "execute_result"
    }
   ],
   "source": [
    "np.random.seed(1)\n",
    "math = np.random.randint( 30,101, size=100)\n",
    "math"
   ]
  },
  {
   "cell_type": "code",
   "execution_count": 8,
   "metadata": {},
   "outputs": [
    {
     "data": {
      "image/png": "[encoded data removed]",
      "text/plain": [
       "<Figure size 432x288 with 1 Axes>"
      ]
     },
     "metadata": {
      "needs_background": "light"
     },
     "output_type": "display_data"
    },
    {
     "name": "stdout",
     "output_type": "stream",
     "text": [
      "[12. 18.  8. 18.  8.  5.  5.  6.  8. 12.]\n",
      "[ 30.  37.  44.  51.  58.  65.  72.  79.  86.  93. 100.]\n"
     ]
    }
   ],
   "source": [
    "f,r, _ = plt.hist(math,10 )\n",
    "plt.show()\n",
    "print( f)\n",
    "print( r )"
   ]
  },
  {
   "cell_type": "code",
   "execution_count": 9,
   "metadata": {},
   "outputs": [
    {
     "data": {
      "image/png": "[encoded data removed]",
      "text/plain": [
       "<Figure size 432x288 with 1 Axes>"
      ]
     },
     "metadata": {
      "needs_background": "light"
     },
     "output_type": "display_data"
    },
    {
     "name": "stdout",
     "output_type": "stream",
     "text": [
      "[ 0.  0.  0. 22. 13. 23. 10.  7.  9. 16.]\n",
      "[  0  10  20  30  40  50  60  70  80  90 100]\n"
     ]
    }
   ],
   "source": [
    "f,r, _ = plt.hist(math, range(0,101,10) )\n",
    "plt.show()\n",
    "print( f)\n",
    "print( r )"
   ]
  }
 ],
 "metadata": {
  "kernelspec": {
   "display_name": "Python 3",
   "language": "python",
   "name": "python3"
  },
  "language_info": {
   "codemirror_mode": {
    "name": "ipython",
    "version": 3
   },
   "file_extension": ".py",
   "mimetype": "text/x-python",
   "name": "python",
   "nbconvert_exporter": "python",
   "pygments_lexer": "ipython3",
   "version": "3.8.5"
  }
 },
 "nbformat": 4,
 "nbformat_minor": 4
}
