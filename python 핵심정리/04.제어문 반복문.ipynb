{
 "cells": [
  {
   "cell_type": "code",
   "execution_count": null,
   "metadata": {},
   "outputs": [],
   "source": [
    "# if, switch(X)\n",
    "# while, for, do~while(X)"
   ]
  },
  {
   "cell_type": "code",
   "execution_count": 1,
   "metadata": {},
   "outputs": [
    {
     "name": "stdout",
     "output_type": "stream",
     "text": [
      "0보다 크다\n",
      "hello\n"
     ]
    }
   ],
   "source": [
    "a = 5\n",
    "if a>0:\n",
    "    print('0보다 크다')\n",
    "    \n",
    "print('hello')"
   ]
  },
  {
   "cell_type": "code",
   "execution_count": 3,
   "metadata": {},
   "outputs": [
    {
     "name": "stdout",
     "output_type": "stream",
     "text": [
      "아니다\n",
      "hello\n"
     ]
    }
   ],
   "source": [
    "a = -5\n",
    "if a>0:\n",
    "    print('0보다 크다')\n",
    "else:\n",
    "    print('아니다')\n",
    "    \n",
    "print('hello')"
   ]
  },
  {
   "cell_type": "code",
   "execution_count": 5,
   "metadata": {},
   "outputs": [
    {
     "name": "stdout",
     "output_type": "stream",
     "text": [
      "같다\n",
      "hello\n"
     ]
    }
   ],
   "source": [
    "a = 0\n",
    "if a>0:\n",
    "    print('0보다 크다')\n",
    "elif a==0:\n",
    "    print('같다')\n",
    "else:\n",
    "    print('아니다')\n",
    "    \n",
    "print('hello')"
   ]
  },
  {
   "cell_type": "code",
   "execution_count": null,
   "metadata": {},
   "outputs": [],
   "source": [
    "# 하나의 점수를 읽어\n",
    "# 90~100 'A'\n",
    "# 80~89 'B'\n",
    "# 70~79 'C'\n",
    "# 60~69 'D'\n",
    "# 나머지 'F'"
   ]
  },
  {
   "cell_type": "code",
   "execution_count": null,
   "metadata": {},
   "outputs": [],
   "source": [
    "s = int(input('점수를 입력하세요 > '))\n",
    "if 90 <= s <= 100: \n",
    "    print('A')\n",
    "elif 80 <= s < 90: \n",
    "    print('B')\n",
    "elif 70 <= s < 80: \n",
    "    print('C')\n",
    "elif 60 <= s < 70: \n",
    "    print('D')\n",
    "else: \n",
    "    print('F')"
   ]
  },
  {
   "cell_type": "code",
   "execution_count": null,
   "metadata": {},
   "outputs": [],
   "source": [
    "# switch  --> dict"
   ]
  },
  {
   "cell_type": "markdown",
   "metadata": {},
   "source": [
    "### 반복문"
   ]
  },
  {
   "cell_type": "code",
   "execution_count": 8,
   "metadata": {},
   "outputs": [
    {
     "name": "stdout",
     "output_type": "stream",
     "text": [
      "a= 1\n",
      "a= 2\n",
      "a= 3\n",
      "a= 4\n",
      "hello\n"
     ]
    }
   ],
   "source": [
    "a = 1\n",
    "while a<=5:\n",
    "    print( \"a=\",a )\n",
    "    if a==4:\n",
    "        break\n",
    "    a+=1\n",
    "print('hello')"
   ]
  },
  {
   "cell_type": "code",
   "execution_count": 9,
   "metadata": {},
   "outputs": [
    {
     "name": "stdout",
     "output_type": "stream",
     "text": [
      "a\n",
      "b\n",
      "c\n"
     ]
    }
   ],
   "source": [
    "# for 변수 in 복합데이터타입\n",
    "s = 'abc'\n",
    "for n in s:\n",
    "    print(n)"
   ]
  },
  {
   "cell_type": "code",
   "execution_count": 10,
   "metadata": {},
   "outputs": [
    {
     "name": "stdout",
     "output_type": "stream",
     "text": [
      "10\n",
      "20\n",
      "30\n"
     ]
    }
   ],
   "source": [
    "my = [10,20,30]\n",
    "for n in my:\n",
    "    print(n)"
   ]
  },
  {
   "cell_type": "code",
   "execution_count": null,
   "metadata": {},
   "outputs": [],
   "source": [
    "# range( 시작값,끝값,증가치)\n",
    "# 시작값<= 리스트 <끝값  해당리스트"
   ]
  },
  {
   "cell_type": "code",
   "execution_count": 1,
   "metadata": {},
   "outputs": [
    {
     "name": "stdout",
     "output_type": "stream",
     "text": [
      "[0, 1, 2, 3, 4]\n"
     ]
    }
   ],
   "source": [
    "# r = range( 1,5,1) # 1<= 리스트 < 5   1,2,3,4\n",
    "r = range( 5) # 0<= 리스트 < 5    0,1,2,3,4\n",
    "print( list(r) )"
   ]
  },
  {
   "cell_type": "code",
   "execution_count": 2,
   "metadata": {},
   "outputs": [
    {
     "name": "stdout",
     "output_type": "stream",
     "text": [
      "1\n",
      "2\n",
      "3\n",
      "4\n",
      "5\n"
     ]
    }
   ],
   "source": [
    "for n in range(1,6):\n",
    "    print(n)"
   ]
  },
  {
   "cell_type": "code",
   "execution_count": null,
   "metadata": {},
   "outputs": [],
   "source": [
    "# 1~10 까지 3의 배수를 제외한 값을 출력하시요"
   ]
  },
  {
   "cell_type": "code",
   "execution_count": 3,
   "metadata": {},
   "outputs": [
    {
     "name": "stdout",
     "output_type": "stream",
     "text": [
      "1\n",
      "2\n",
      "4\n",
      "5\n",
      "7\n",
      "8\n",
      "10\n"
     ]
    }
   ],
   "source": [
    "for i in range(1, 11): \n",
    "    if i%3: \n",
    "        print(i)"
   ]
  },
  {
   "cell_type": "code",
   "execution_count": null,
   "metadata": {},
   "outputs": [],
   "source": [
    "for i in range(1,11): \n",
    "    if i%3==0 : \n",
    "        continue \n",
    "    print(i)"
   ]
  },
  {
   "cell_type": "markdown",
   "metadata": {},
   "source": [
    "### comprehesion"
   ]
  },
  {
   "cell_type": "code",
   "execution_count": 5,
   "metadata": {},
   "outputs": [
    {
     "name": "stdout",
     "output_type": "stream",
     "text": [
      "[20, 40]\n"
     ]
    }
   ],
   "source": [
    "# my = [ n*10 for n in range(1,6) ]\n",
    "my = [ n*10 for n in range(1,6) if n%2==0 ]\n",
    "print( my )"
   ]
  },
  {
   "cell_type": "code",
   "execution_count": 6,
   "metadata": {},
   "outputs": [
    {
     "data": {
      "text/plain": [
       "[967.0, 1934.0, 2901.0, 3868.0, 4835.0]"
      ]
     },
     "execution_count": 6,
     "metadata": {},
     "output_type": "execute_result"
    }
   ],
   "source": [
    "# 세금3.3%을제한 실수령액 리스트를 구하시요\n",
    "salary = [1000,2000,3000,4000,5000]\n",
    "sil = [ n*(1-0.033) for n in salary ]\n",
    "sil"
   ]
  }
 ],
 "metadata": {
  "kernelspec": {
   "display_name": "Python 3",
   "language": "python",
   "name": "python3"
  },
  "language_info": {
   "codemirror_mode": {
    "name": "ipython",
    "version": 3
   },
   "file_extension": ".py",
   "mimetype": "text/x-python",
   "name": "python",
   "nbconvert_exporter": "python",
   "pygments_lexer": "ipython3",
   "version": "3.8.5"
  }
 },
 "nbformat": 4,
 "nbformat_minor": 4
}
