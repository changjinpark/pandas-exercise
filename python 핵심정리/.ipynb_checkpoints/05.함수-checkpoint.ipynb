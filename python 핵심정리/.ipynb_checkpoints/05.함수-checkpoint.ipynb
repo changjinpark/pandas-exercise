{
 "cells": [
  {
   "cell_type": "code",
   "execution_count": 1,
   "metadata": {},
   "outputs": [],
   "source": [
    "def fn():\n",
    "    print('hello')\n",
    "    print('korea')"
   ]
  },
  {
   "cell_type": "code",
   "execution_count": 3,
   "metadata": {},
   "outputs": [],
   "source": [
    "def hap(a,b):\n",
    "    return a+b"
   ]
  },
  {
   "cell_type": "code",
   "execution_count": 5,
   "metadata": {},
   "outputs": [],
   "source": [
    "def fn1():\n",
    "    return 10,20"
   ]
  },
  {
   "cell_type": "code",
   "execution_count": 8,
   "metadata": {},
   "outputs": [],
   "source": [
    "def shape( r, h, w ):\n",
    "    return r**2*3.14, h*w"
   ]
  },
  {
   "cell_type": "code",
   "execution_count": 10,
   "metadata": {},
   "outputs": [],
   "source": [
    "def fn2( a=10,b=20):\n",
    "    print(a, b)"
   ]
  },
  {
   "cell_type": "code",
   "execution_count": 14,
   "metadata": {},
   "outputs": [],
   "source": [
    "def fn3( *args ): #가변인자\n",
    "    print( args )"
   ]
  },
  {
   "cell_type": "code",
   "execution_count": 16,
   "metadata": {},
   "outputs": [],
   "source": [
    "def circles( *rs):\n",
    "    for r in rs:\n",
    "        print( r**2*3.14 )"
   ]
  },
  {
   "cell_type": "code",
   "execution_count": 23,
   "metadata": {},
   "outputs": [],
   "source": [
    "def fn4(*args, a=10,b=20):\n",
    "    print( args )\n",
    "    print(a)\n",
    "    print(b)"
   ]
  },
  {
   "cell_type": "code",
   "execution_count": 31,
   "metadata": {},
   "outputs": [],
   "source": [
    "def fn5( **kwargs): #정의되지 않은 인자\n",
    "    print( kwargs)"
   ]
  },
  {
   "cell_type": "code",
   "execution_count": 33,
   "metadata": {},
   "outputs": [],
   "source": [
    "#일급함수:(함수 인자, 리턴, 할당, 함수안에 함수선언)\n",
    "def myfn():\n",
    "    print(\"myfn ...\")"
   ]
  },
  {
   "cell_type": "code",
   "execution_count": 36,
   "metadata": {},
   "outputs": [],
   "source": [
    "def afn( aa):\n",
    "    aa()"
   ]
  },
  {
   "cell_type": "code",
   "execution_count": 38,
   "metadata": {},
   "outputs": [],
   "source": [
    "def sfn1():\n",
    "    print('sfn1...')\n",
    "def sfn2():\n",
    "    print('sfn2...')\n",
    "def defaultFn():\n",
    "    print(\"defaultfn...\")"
   ]
  },
  {
   "cell_type": "code",
   "execution_count": 44,
   "metadata": {},
   "outputs": [
    {
     "name": "stdout",
     "output_type": "stream",
     "text": [
      "defaultfn...\n"
     ]
    }
   ],
   "source": [
    "d = {1:sfn1, 2:sfn2 } # switch 문을 대용\n",
    "# d[2]()\n",
    "d.get(3, defaultFn )()"
   ]
  },
  {
   "cell_type": "code",
   "execution_count": null,
   "metadata": {},
   "outputs": [],
   "source": [
    "# 하나의 정수를 인자로 받아 약수를 반환하는\n",
    "# 함수를 만드시요. 예) 10 1,2,5,10"
   ]
  },
  {
   "cell_type": "code",
   "execution_count": 45,
   "metadata": {},
   "outputs": [],
   "source": [
    "def fn( num ): \n",
    "    a = []\n",
    "    for i in range(1, num+1): \n",
    "        if num%i == 0: \n",
    "            a.append(i) \n",
    "    return a"
   ]
  },
  {
   "cell_type": "code",
   "execution_count": 47,
   "metadata": {},
   "outputs": [],
   "source": [
    "def yaksu( num ):\n",
    "    return [n for n in range(1,num+1) if num%n==0 ]"
   ]
  },
  {
   "cell_type": "code",
   "execution_count": 56,
   "metadata": {},
   "outputs": [],
   "source": [
    "def tfn( v ):\n",
    "    return v<=30"
   ]
  },
  {
   "cell_type": "code",
   "execution_count": 59,
   "metadata": {},
   "outputs": [],
   "source": [
    "def tfn1( v ):\n",
    "    return v > 30"
   ]
  },
  {
   "cell_type": "code",
   "execution_count": 57,
   "metadata": {},
   "outputs": [],
   "source": [
    "def myfilter( adata, key):\n",
    "    return [ n for n in adata if key(n) ]\n",
    "# def myfilter( adata):\n",
    "#     return [ n for n in adata if n <=30]\n",
    "# def myfilter1( adata):\n",
    "#     return [ n for n in adata if n ==30]\n",
    "# def myfilter2( adata):\n",
    "#     return [ n for n in adata if n >=30]"
   ]
  },
  {
   "cell_type": "code",
   "execution_count": 62,
   "metadata": {},
   "outputs": [
    {
     "data": {
      "text/plain": [
       "[40, 50]"
      ]
     },
     "execution_count": 62,
     "metadata": {},
     "output_type": "execute_result"
    }
   ],
   "source": [
    "data = [10,20,30,40,50]\n",
    "myfilter( data, lambda v: v > 30 )\n",
    "# myfilter( data, lambda v: v<=30 )\n",
    "# myfilter( data, tfn1 )\n",
    "# myfilter( data, tfn )\n",
    "# myfilter2( data )\n",
    "# result = [n for n in data if n<=30]\n",
    "# print( result )"
   ]
  },
  {
   "cell_type": "code",
   "execution_count": 48,
   "metadata": {},
   "outputs": [
    {
     "data": {
      "text/plain": [
       "[1, 2, 5, 10]"
      ]
     },
     "execution_count": 48,
     "metadata": {},
     "output_type": "execute_result"
    }
   ],
   "source": [
    "yaksu(10)"
   ]
  },
  {
   "cell_type": "code",
   "execution_count": 46,
   "metadata": {},
   "outputs": [
    {
     "data": {
      "text/plain": [
       "[1, 2, 5, 10]"
      ]
     },
     "execution_count": 46,
     "metadata": {},
     "output_type": "execute_result"
    }
   ],
   "source": [
    "fn(10)"
   ]
  },
  {
   "cell_type": "code",
   "execution_count": 37,
   "metadata": {},
   "outputs": [
    {
     "name": "stdout",
     "output_type": "stream",
     "text": [
      "myfn ...\n"
     ]
    }
   ],
   "source": [
    "afn( myfn )"
   ]
  },
  {
   "cell_type": "code",
   "execution_count": 35,
   "metadata": {},
   "outputs": [
    {
     "name": "stdout",
     "output_type": "stream",
     "text": [
      "140638507388800 140638507388800\n",
      "myfn ...\n",
      "myfn ...\n"
     ]
    }
   ],
   "source": [
    "#함수명: 메모리에 할당된 함수의 시작주소\n",
    "my = myfn #할당( shallow copy)\n",
    "print( id(my), id(myfn))\n",
    "myfn() #함수호출\n",
    "my()"
   ]
  },
  {
   "cell_type": "code",
   "execution_count": 32,
   "metadata": {},
   "outputs": [
    {
     "name": "stdout",
     "output_type": "stream",
     "text": [
      "{'a': 10, 'b': 20}\n",
      "{'name': '홍길동', 'age': 20}\n"
     ]
    }
   ],
   "source": [
    "fn5(a=10,b=20)\n",
    "fn5(name='홍길동', age=20)"
   ]
  },
  {
   "cell_type": "code",
   "execution_count": 25,
   "metadata": {},
   "outputs": [
    {
     "name": "stdout",
     "output_type": "stream",
     "text": [
      "(1, 2, 3)\n",
      "4\n",
      "5\n"
     ]
    }
   ],
   "source": [
    "# fn4(1,2,3,a=4,b=5)\n",
    "fn4(1,2,3,a=4,b=5)"
   ]
  },
  {
   "cell_type": "code",
   "execution_count": 27,
   "metadata": {},
   "outputs": [
    {
     "name": "stdout",
     "output_type": "stream",
     "text": [
      "10-20-30\n"
     ]
    }
   ],
   "source": [
    "print(10,20,30,sep='-')"
   ]
  },
  {
   "cell_type": "code",
   "execution_count": 29,
   "metadata": {},
   "outputs": [
    {
     "name": "stdout",
     "output_type": "stream",
     "text": [
      "hello korea\n"
     ]
    }
   ],
   "source": [
    "print('hello',end=' ' )\n",
    "print('korea')"
   ]
  },
  {
   "cell_type": "code",
   "execution_count": 17,
   "metadata": {
    "collapsed": true
   },
   "outputs": [
    {
     "name": "stdout",
     "output_type": "stream",
     "text": [
      "3.14\n",
      "12.56\n",
      "28.26\n",
      "50.24\n",
      "78.5\n"
     ]
    }
   ],
   "source": [
    "circles(1,2,3,4,5)"
   ]
  },
  {
   "cell_type": "code",
   "execution_count": 15,
   "metadata": {},
   "outputs": [
    {
     "name": "stdout",
     "output_type": "stream",
     "text": [
      "(10, 20, 30)\n",
      "('aa', 'bb', 'cc', 'dd')\n"
     ]
    }
   ],
   "source": [
    "fn3(10,20,30)\n",
    "fn3( 'aa','bb','cc','dd' )"
   ]
  },
  {
   "cell_type": "code",
   "execution_count": 13,
   "metadata": {},
   "outputs": [
    {
     "name": "stdout",
     "output_type": "stream",
     "text": [
      "10 20\n",
      "100 20\n",
      "100 200\n",
      "10 1000\n"
     ]
    }
   ],
   "source": [
    "fn2()\n",
    "fn2(100)\n",
    "fn2(100,200)\n",
    "fn2( b=1000 )"
   ]
  },
  {
   "cell_type": "code",
   "execution_count": 9,
   "metadata": {},
   "outputs": [
    {
     "data": {
      "text/plain": [
       "(28.26, 200)"
      ]
     },
     "execution_count": 9,
     "metadata": {},
     "output_type": "execute_result"
    }
   ],
   "source": [
    "shape(3,10,20)"
   ]
  },
  {
   "cell_type": "code",
   "execution_count": 6,
   "metadata": {},
   "outputs": [
    {
     "data": {
      "text/plain": [
       "(10, 20)"
      ]
     },
     "execution_count": 6,
     "metadata": {},
     "output_type": "execute_result"
    }
   ],
   "source": [
    "rst = fn1()\n",
    "rst"
   ]
  },
  {
   "cell_type": "code",
   "execution_count": 7,
   "metadata": {},
   "outputs": [
    {
     "name": "stdout",
     "output_type": "stream",
     "text": [
      "10 20\n"
     ]
    }
   ],
   "source": [
    "a, b = fn1()\n",
    "print( a, b)"
   ]
  },
  {
   "cell_type": "code",
   "execution_count": 2,
   "metadata": {
    "collapsed": true
   },
   "outputs": [
    {
     "name": "stdout",
     "output_type": "stream",
     "text": [
      "hello\n",
      "korea\n",
      "hello\n",
      "korea\n",
      "hello\n",
      "korea\n"
     ]
    }
   ],
   "source": [
    "fn()\n",
    "fn()\n",
    "fn()"
   ]
  },
  {
   "cell_type": "code",
   "execution_count": 4,
   "metadata": {},
   "outputs": [
    {
     "name": "stdout",
     "output_type": "stream",
     "text": [
      "30\n"
     ]
    }
   ],
   "source": [
    "rst = hap(10,20)\n",
    "print( rst )"
   ]
  }
 ],
 "metadata": {
  "kernelspec": {
   "display_name": "Python 3",
   "language": "python",
   "name": "python3"
  },
  "language_info": {
   "codemirror_mode": {
    "name": "ipython",
    "version": 3
   },
   "file_extension": ".py",
   "mimetype": "text/x-python",
   "name": "python",
   "nbconvert_exporter": "python",
   "pygments_lexer": "ipython3",
   "version": "3.8.5"
  }
 },
 "nbformat": 4,
 "nbformat_minor": 4
}
