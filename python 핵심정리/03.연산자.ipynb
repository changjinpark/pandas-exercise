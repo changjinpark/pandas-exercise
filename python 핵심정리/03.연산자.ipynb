{
 "cells": [
  {
   "cell_type": "code",
   "execution_count": 8,
   "metadata": {},
   "outputs": [
    {
     "name": "stdout",
     "output_type": "stream",
     "text": [
      "13\n"
     ]
    }
   ],
   "source": [
    "a=5\n",
    "# rst = a**2\n",
    "# rst = a*2\n",
    "# rst = a/2\n",
    "# rst = a%2\n",
    "# rst = a//2\n",
    "# rst = a+2\n",
    "# rst = a-2\n",
    "rst = 3*2**2+3-2\n",
    "print( rst )"
   ]
  },
  {
   "cell_type": "code",
   "execution_count": 10,
   "metadata": {},
   "outputs": [
    {
     "name": "stdout",
     "output_type": "stream",
     "text": [
      "입력:3.14\n",
      "3.14 <class 'str'>\n"
     ]
    }
   ],
   "source": [
    "n = input('입력:')\n",
    "print(n, type(n))"
   ]
  },
  {
   "cell_type": "code",
   "execution_count": 11,
   "metadata": {},
   "outputs": [
    {
     "name": "stdout",
     "output_type": "stream",
     "text": [
      "100 <class 'int'>\n"
     ]
    }
   ],
   "source": [
    "s ='100'\n",
    "s = int(s)\n",
    "print(s, type(s))"
   ]
  },
  {
   "cell_type": "code",
   "execution_count": 12,
   "metadata": {},
   "outputs": [
    {
     "name": "stdout",
     "output_type": "stream",
     "text": [
      "10 <class 'str'>\n"
     ]
    }
   ],
   "source": [
    "n = 10\n",
    "n = str(n)\n",
    "print(n, type(n))"
   ]
  },
  {
   "cell_type": "code",
   "execution_count": 13,
   "metadata": {},
   "outputs": [
    {
     "name": "stdout",
     "output_type": "stream",
     "text": [
      "3.14 <class 'float'>\n"
     ]
    }
   ],
   "source": [
    "f = '3.14'\n",
    "f = float(f)\n",
    "print(f, type(f))"
   ]
  },
  {
   "cell_type": "code",
   "execution_count": null,
   "metadata": {},
   "outputs": [],
   "source": [
    "반지름을 입력받아 원의면적을 구하시요"
   ]
  },
  {
   "cell_type": "code",
   "execution_count": 14,
   "metadata": {},
   "outputs": [
    {
     "name": "stdout",
     "output_type": "stream",
     "text": [
      "반지름:5\n",
      "면적:  78.5\n"
     ]
    }
   ],
   "source": [
    "r = input('반지름:')\n",
    "area = 3.14*int(r)**2\n",
    "print('면적: ', area )"
   ]
  },
  {
   "cell_type": "code",
   "execution_count": null,
   "metadata": {},
   "outputs": [],
   "source": [
    "#산술(정수,실수)\n",
    "#str( +, * %)\n",
    "#list( + , *)"
   ]
  },
  {
   "cell_type": "code",
   "execution_count": 16,
   "metadata": {},
   "outputs": [
    {
     "name": "stdout",
     "output_type": "stream",
     "text": [
      "abcabcabc\n"
     ]
    }
   ],
   "source": [
    "s = 'abc'\n",
    "# s = s+'def'\n",
    "s = s*3\n",
    "print(s)"
   ]
  },
  {
   "cell_type": "code",
   "execution_count": 23,
   "metadata": {},
   "outputs": [
    {
     "name": "stdout",
     "output_type": "stream",
     "text": [
      "a=        10 b=3.1 c=abc\n"
     ]
    }
   ],
   "source": [
    "a= 10\n",
    "b = 3.14\n",
    "c ='abc'\n",
    "# s = 'a=%10d b=%.2f c=%s'%(a,b,c)\n",
    "s = f'a={a:10} b={b:.1f} c={c}' # 3.5버전이후..\n",
    "print(s)"
   ]
  },
  {
   "cell_type": "code",
   "execution_count": 25,
   "metadata": {},
   "outputs": [
    {
     "data": {
      "text/plain": [
       "[1, 2, 3, 1, 2, 3]"
      ]
     },
     "execution_count": 25,
     "metadata": {},
     "output_type": "execute_result"
    }
   ],
   "source": [
    "my=[1,2,3]\n",
    "# my = my +[5,6\n",
    "my = my*2\n",
    "my"
   ]
  },
  {
   "cell_type": "markdown",
   "metadata": {},
   "source": [
    "### 대입연산자"
   ]
  },
  {
   "cell_type": "code",
   "execution_count": 28,
   "metadata": {},
   "outputs": [
    {
     "name": "stdout",
     "output_type": "stream",
     "text": [
      "100\n"
     ]
    }
   ],
   "source": [
    "n = 10\n",
    "# n++ (X) n--(X)\n",
    "# n +=2 # n = n+2\n",
    "# n *=2 # n = n*2\n",
    "n **=2 # n = n**2\n",
    "print(n)"
   ]
  },
  {
   "cell_type": "markdown",
   "metadata": {},
   "source": [
    "### 관계연산자"
   ]
  },
  {
   "cell_type": "code",
   "execution_count": 37,
   "metadata": {},
   "outputs": [
    {
     "name": "stdout",
     "output_type": "stream",
     "text": [
      "False\n"
     ]
    }
   ],
   "source": [
    "a = 15\n",
    "# rst = a>0\n",
    "# rst = a>=0\n",
    "# rst = a < 0\n",
    "# rst = a <= 0\n",
    "# rst = a == 0\n",
    "# rst = a != 0\n",
    "rst = 0< a < 10 # 다른언어 0<a && a<10\n",
    "print( rst )"
   ]
  },
  {
   "cell_type": "markdown",
   "metadata": {},
   "source": [
    "### 논리연산자"
   ]
  },
  {
   "cell_type": "code",
   "execution_count": 46,
   "metadata": {},
   "outputs": [
    {
     "name": "stdout",
     "output_type": "stream",
     "text": [
      "False\n"
     ]
    }
   ],
   "source": [
    "a=5\n",
    "# rst = a>0 and a==0\n",
    "# rst = a>0 or a==0\n",
    "# rst = not a>0\n",
    "# rst = not []#''#None #0\n",
    "rst = not 'abc' #3.14\n",
    "print(rst )"
   ]
  },
  {
   "cell_type": "code",
   "execution_count": null,
   "metadata": {},
   "outputs": [],
   "source": [
    "# False: 0, None, '', [], (), {}\n",
    "# True: 0이아닌정수및 실수,'ab', [10],{'a':10}"
   ]
  },
  {
   "cell_type": "code",
   "execution_count": 50,
   "metadata": {},
   "outputs": [
    {
     "name": "stdout",
     "output_type": "stream",
     "text": [
      "True\n",
      "True\n",
      "True\n",
      "True\n"
     ]
    }
   ],
   "source": [
    "# 요소 in 복합데이터타입\n",
    "s = 'hello korea'\n",
    "my = [10,20,30]\n",
    "d = {'aa':10, 'bb':20}\n",
    "print( 'llo' in s )\n",
    "print( 20 in my )\n",
    "print( 'aa' in d )\n",
    "print( 100 not in my)"
   ]
  },
  {
   "cell_type": "markdown",
   "metadata": {},
   "source": [
    "### 삼항연산자"
   ]
  },
  {
   "cell_type": "code",
   "execution_count": 52,
   "metadata": {},
   "outputs": [
    {
     "name": "stdout",
     "output_type": "stream",
     "text": [
      "200\n"
     ]
    }
   ],
   "source": [
    "a= -5\n",
    "rst = 100 if a>0 else 200 #다른언어 a>0? 100 :200\n",
    "print( rst )"
   ]
  },
  {
   "cell_type": "code",
   "execution_count": null,
   "metadata": {},
   "outputs": [],
   "source": [
    "#하나의 점수를 읽어 70점이상이면 '합격' 미만이면'불합격'"
   ]
  },
  {
   "cell_type": "code",
   "execution_count": null,
   "metadata": {},
   "outputs": [],
   "source": [
    "n = input(\"점수는?:\")\n",
    "n = int(n)\n",
    "rst = '합격' if n >= 70 else '불합격'\n",
    "print(rst)\n",
    "# print('합격' if s>=70 else '불합격')"
   ]
  }
 ],
 "metadata": {
  "kernelspec": {
   "display_name": "Python 3",
   "language": "python",
   "name": "python3"
  },
  "language_info": {
   "codemirror_mode": {
    "name": "ipython",
    "version": 3
   },
   "file_extension": ".py",
   "mimetype": "text/x-python",
   "name": "python",
   "nbconvert_exporter": "python",
   "pygments_lexer": "ipython3",
   "version": "3.8.5"
  }
 },
 "nbformat": 4,
 "nbformat_minor": 4
}
