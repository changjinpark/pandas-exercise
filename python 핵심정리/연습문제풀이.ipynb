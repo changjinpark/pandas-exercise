{
 "cells": [
  {
   "cell_type": "code",
   "execution_count": null,
   "metadata": {},
   "outputs": [],
   "source": [
    "# 1. 키와 몸무게를 입력받아 비만도를 구하고 결과를 출력하시요(함수를 만드시요)\n",
    "# 표준체중(kg)=(신장(cm)-100)×0.85\n",
    "# 비만도(%)=현재체중/표준체중×100\n",
    "# 비만도가90%이하\n",
    "# 저체중,\n",
    "# 90초과~110%\n",
    "# 정상,\n",
    "# 110초과~120%\n",
    "# 과체중,\n",
    "# 120%초과 \n",
    "# 비만"
   ]
  },
  {
   "cell_type": "code",
   "execution_count": null,
   "metadata": {},
   "outputs": [],
   "source": [
    "# SRP"
   ]
  },
  {
   "cell_type": "code",
   "execution_count": 1,
   "metadata": {},
   "outputs": [],
   "source": [
    "def calB(h, w):\n",
    "    sw = (h - 100)*0.85\n",
    "    b = w/sw*100\n",
    "    if b <= 90:\n",
    "        return \"저체중\"\n",
    "    elif 90 < b <= 110:\n",
    "        return \"정상\"\n",
    "    elif 110 < b <= 120:\n",
    "        return \"과체중\"\n",
    "    elif 120 < b:\n",
    "        return \"비만\""
   ]
  },
  {
   "cell_type": "code",
   "execution_count": 2,
   "metadata": {},
   "outputs": [
    {
     "data": {
      "text/plain": [
       "'정상'"
      ]
     },
     "execution_count": 2,
     "metadata": {},
     "output_type": "execute_result"
    }
   ],
   "source": [
    "calB(170,60)"
   ]
  },
  {
   "cell_type": "code",
   "execution_count": null,
   "metadata": {},
   "outputs": [],
   "source": [
    "# 2. 년도 입력받아\n",
    "# 1) 윤년여부를 출력하는 함수를 만드시요\n",
    "# 윤년의 조건\n",
    "# 1-1) 4로 나눠 떨어지지만 100으로 나눠 떨어지지 않아야 한다 또는\n",
    "# 1-2) 400 으로 나눠 떨어지면 윤년임\n",
    "# 2) 나이를 출력하는 함수를 만드시요\n",
    "# 3) 띠(12지신)를 출력하는 함수를 만드시요"
   ]
  },
  {
   "cell_type": "code",
   "execution_count": 4,
   "metadata": {},
   "outputs": [],
   "source": [
    "def calY(year):\n",
    "    return \"윤년\" if year%4 == 0  and year%100 != 0 or year%400 == 0 else '윤년아님'\n",
    "#     if (year%4 == 0  and year%100 != 0) or year%400 == 0:\n",
    "#         print(year, 'is 윤년')\n",
    "#     else:\n",
    "#         print(year, 'is NOT 윤년')"
   ]
  },
  {
   "cell_type": "code",
   "execution_count": 3,
   "metadata": {},
   "outputs": [],
   "source": [
    "def calAge(year):\n",
    "    return 2021 - year + 1"
   ]
  },
  {
   "cell_type": "code",
   "execution_count": 7,
   "metadata": {},
   "outputs": [
    {
     "data": {
      "text/plain": [
       "5"
      ]
     },
     "execution_count": 7,
     "metadata": {},
     "output_type": "execute_result"
    }
   ],
   "source": [
    "2021%12"
   ]
  },
  {
   "cell_type": "code",
   "execution_count": 9,
   "metadata": {},
   "outputs": [],
   "source": [
    "def cal12Ganji(year):\n",
    "    return ('원숭이','닭','개','돼지','쥐','소','호랑이','토끼','용','뱀','말','양')[year%12]"
   ]
  },
  {
   "cell_type": "code",
   "execution_count": null,
   "metadata": {},
   "outputs": [],
   "source": [
    "# 3. 점수를 입력받아\n",
    "# 90~100 'A'\n",
    "# 80~89 'B'\n",
    "# 70~79 'C'\n",
    "# 60~69 'D'\n",
    "# 나머지 'F'\n",
    "# 딕셔너리를 이용하여 구하시요"
   ]
  },
  {
   "cell_type": "code",
   "execution_count": 19,
   "metadata": {},
   "outputs": [
    {
     "data": {
      "text/plain": [
       "'F'"
      ]
     },
     "execution_count": 19,
     "metadata": {},
     "output_type": "execute_result"
    }
   ],
   "source": [
    "jumsu = 34\n",
    "grade = { 10:'A',9:'A',8:'B',7:'C',6:'D' }\n",
    "# grade[ jumsu//10 ]\n",
    "grade.get( jumsu//10, 'F' )"
   ]
  },
  {
   "cell_type": "code",
   "execution_count": null,
   "metadata": {},
   "outputs": [],
   "source": [
    "# 4. m 를 입력받아 마일로 변환하시요(함수를 만드시요)"
   ]
  },
  {
   "cell_type": "code",
   "execution_count": 20,
   "metadata": {},
   "outputs": [],
   "source": [
    "def meterToMile(meter):\n",
    "    return meter * 0.000621371"
   ]
  },
  {
   "cell_type": "code",
   "execution_count": null,
   "metadata": {},
   "outputs": [],
   "source": [
    "# 5. 화씨 를 입력받아 도로 변환하시요(함수를 만드시요)"
   ]
  },
  {
   "cell_type": "code",
   "execution_count": 21,
   "metadata": {},
   "outputs": [],
   "source": [
    "def fToC(f):\n",
    "    return (f - 32)*5/9"
   ]
  },
  {
   "cell_type": "code",
   "execution_count": null,
   "metadata": {},
   "outputs": [],
   "source": [
    "# 6. 2개의 정수를 입력받아 절대값의 합을 구하는 함수를 만드시요\n",
    "#( 반드시 로직으로 구현)"
   ]
  },
  {
   "cell_type": "code",
   "execution_count": 25,
   "metadata": {},
   "outputs": [],
   "source": [
    "def sumAbs(a, b):\n",
    "    return (a if a > 0 else -a ) + (b if b > 0 else -b)"
   ]
  },
  {
   "cell_type": "code",
   "execution_count": 24,
   "metadata": {},
   "outputs": [
    {
     "data": {
      "text/plain": [
       "3"
      ]
     },
     "execution_count": 24,
     "metadata": {},
     "output_type": "execute_result"
    }
   ],
   "source": [
    "a = -3\n",
    "a = -1*a if a<0 else a\n",
    "a"
   ]
  },
  {
   "cell_type": "code",
   "execution_count": null,
   "metadata": {},
   "outputs": [],
   "source": [
    "# 7. data = [1, 2, 3, 4, 5, 6, 73, 8, 10, 54] 의 가장큰값을 구하는 함수를 만드시요\n",
    "# (반드시로직으로 구현)"
   ]
  },
  {
   "cell_type": "code",
   "execution_count": 28,
   "metadata": {},
   "outputs": [],
   "source": [
    "def myMax( dt ):\n",
    "    mx = dt[0]\n",
    "    for n in dt[1:]:\n",
    "        if n>mx:\n",
    "            mx = n\n",
    "    return mx"
   ]
  },
  {
   "cell_type": "code",
   "execution_count": 29,
   "metadata": {},
   "outputs": [
    {
     "data": {
      "text/plain": [
       "73"
      ]
     },
     "execution_count": 29,
     "metadata": {},
     "output_type": "execute_result"
    }
   ],
   "source": [
    "data = [1, 2, 3, 4, 5, 6, 73, 8, 10, 54]\n",
    "myMax(data)"
   ]
  },
  {
   "cell_type": "code",
   "execution_count": null,
   "metadata": {},
   "outputs": [],
   "source": [
    "# 8. 다음과 같이 구구단을 출력하시요\n",
    "# 1X1 = 1\t2X1= 2\t3X1= 3\n",
    "# 1X2 = 1\t2X2= 4\t3X2= 6\n",
    "# ...\n",
    "# 1X9 = 9\t2X9=18\t3X9=27\n",
    "\n",
    "# 4X1 = 4\t5X1= 5\t6X1= 6\n",
    "# 4X2 = 8\t5X2=10\t6X2=12\n",
    "# ...\n",
    "# 4X9 =36\t5X9=45\t6X9=54\n",
    "\n",
    "# 7X1 = 7\t8X1= 8\t9X1= 9\n",
    "# 7X2 =14\t8X2=16\t9X2=18\n",
    "# ...\n",
    "# 7X9 =63\t8X9=72\t9X9=81"
   ]
  },
  {
   "cell_type": "code",
   "execution_count": 36,
   "metadata": {},
   "outputs": [
    {
     "name": "stdout",
     "output_type": "stream",
     "text": [
      "1X1= 1 2X1= 2 3X1= 3\n",
      "1X2= 2 2X2= 4 3X2= 6\n",
      "1X3= 3 2X3= 6 3X3= 9\n",
      "1X4= 4 2X4= 8 3X4=12\n",
      "1X5= 5 2X5=10 3X5=15\n",
      "1X6= 6 2X6=12 3X6=18\n",
      "1X7= 7 2X7=14 3X7=21\n",
      "1X8= 8 2X8=16 3X8=24\n",
      "1X9= 9 2X9=18 3X9=27\n",
      "\n",
      "4X1= 4 5X1= 5 6X1= 6\n",
      "4X2= 8 5X2=10 6X2=12\n",
      "4X3=12 5X3=15 6X3=18\n",
      "4X4=16 5X4=20 6X4=24\n",
      "4X5=20 5X5=25 6X5=30\n",
      "4X6=24 5X6=30 6X6=36\n",
      "4X7=28 5X7=35 6X7=42\n",
      "4X8=32 5X8=40 6X8=48\n",
      "4X9=36 5X9=45 6X9=54\n",
      "\n",
      "7X1= 7 8X1= 8 9X1= 9\n",
      "7X2=14 8X2=16 9X2=18\n",
      "7X3=21 8X3=24 9X3=27\n",
      "7X4=28 8X4=32 9X4=36\n",
      "7X5=35 8X5=40 9X5=45\n",
      "7X6=42 8X6=48 9X6=54\n",
      "7X7=49 8X7=56 9X7=63\n",
      "7X8=56 8X8=64 9X8=72\n",
      "7X9=63 8X9=72 9X9=81\n",
      "\n"
     ]
    }
   ],
   "source": [
    "for n in range(1, 8, 3):\n",
    "    for m in range(1,10):\n",
    "        print( f'{n}X{m}={n*m:2} {n+1}X{m}={(n+1)*m:2} {n+2}X{m}={(n+2)*m:2}' )\n",
    "    print()"
   ]
  }
 ],
 "metadata": {
  "kernelspec": {
   "display_name": "Python 3",
   "language": "python",
   "name": "python3"
  },
  "language_info": {
   "codemirror_mode": {
    "name": "ipython",
    "version": 3
   },
   "file_extension": ".py",
   "mimetype": "text/x-python",
   "name": "python",
   "nbconvert_exporter": "python",
   "pygments_lexer": "ipython3",
   "version": "3.8.5"
  }
 },
 "nbformat": 4,
 "nbformat_minor": 4
}
