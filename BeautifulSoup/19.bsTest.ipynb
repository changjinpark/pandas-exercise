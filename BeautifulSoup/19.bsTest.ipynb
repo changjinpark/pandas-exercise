{
 "cells": [
  {
   "cell_type": "code",
   "execution_count": null,
   "metadata": {},
   "outputs": [],
   "source": [
    "# import bs4 as b"
   ]
  },
  {
   "cell_type": "markdown",
   "metadata": {},
   "source": [
    "https://www.crummy.com/software/BeautifulSoup/bs4/doc/"
   ]
  },
  {
   "cell_type": "code",
   "execution_count": 1,
   "metadata": {},
   "outputs": [],
   "source": [
    "from bs4 import BeautifulSoup"
   ]
  },
  {
   "cell_type": "code",
   "execution_count": null,
   "metadata": {},
   "outputs": [],
   "source": [
    "# xml :lxml, html.parser, html5lib\n",
    "# html: html5lib\n"
   ]
  },
  {
   "cell_type": "code",
   "execution_count": 3,
   "metadata": {
    "collapsed": true
   },
   "outputs": [
    {
     "data": {
      "text/plain": [
       "<kpop>\n",
       "<slist>\n",
       "<song album=\"album1\">\n",
       "<singer>singer1</singer>\n",
       "<title>title1</title>\n",
       "</song>\n",
       "<song album=\"album2\">\n",
       "<singer>singer2</singer>\n",
       "<title>title2</title>\n",
       "</song>\n",
       "<song album=\"album3\">\n",
       "<singer>singer3</singer>\n",
       "<title>title3</title>\n",
       "</song>\n",
       "</slist>\n",
       "</kpop>"
      ]
     },
     "execution_count": 3,
     "metadata": {},
     "output_type": "execute_result"
    }
   ],
   "source": [
    "fp = open( 'data/song.xml' )\n",
    " #문자열 --> element 객체로 변환후 root element 를 반환\n",
    "kpop = BeautifulSoup( fp, 'html.parser')\n",
    "kpop"
   ]
  },
  {
   "cell_type": "code",
   "execution_count": 5,
   "metadata": {
    "collapsed": true
   },
   "outputs": [
    {
     "data": {
      "text/plain": [
       "<slist>\n",
       "<song album=\"album1\">\n",
       "<singer>singer1</singer>\n",
       "<title>title1</title>\n",
       "</song>\n",
       "<song album=\"album2\">\n",
       "<singer>singer2</singer>\n",
       "<title>title2</title>\n",
       "</song>\n",
       "<song album=\"album3\">\n",
       "<singer>singer3</singer>\n",
       "<title>title3</title>\n",
       "</song>\n",
       "</slist>"
      ]
     },
     "execution_count": 5,
     "metadata": {},
     "output_type": "execute_result"
    }
   ],
   "source": [
    "kpop.slist"
   ]
  },
  {
   "cell_type": "code",
   "execution_count": 6,
   "metadata": {},
   "outputs": [
    {
     "data": {
      "text/plain": [
       "<singer>singer1</singer>"
      ]
     },
     "execution_count": 6,
     "metadata": {},
     "output_type": "execute_result"
    }
   ],
   "source": [
    "kpop.singer"
   ]
  },
  {
   "cell_type": "code",
   "execution_count": 7,
   "metadata": {},
   "outputs": [
    {
     "data": {
      "text/plain": [
       "<song album=\"album1\">\n",
       "<singer>singer1</singer>\n",
       "<title>title1</title>\n",
       "</song>"
      ]
     },
     "execution_count": 7,
     "metadata": {},
     "output_type": "execute_result"
    }
   ],
   "source": [
    "kpop.song"
   ]
  },
  {
   "cell_type": "code",
   "execution_count": 10,
   "metadata": {
    "collapsed": true
   },
   "outputs": [
    {
     "name": "stdout",
     "output_type": "stream",
     "text": [
      "[<slist>\n",
      "<song album=\"album1\">\n",
      "<singer>singer1</singer>\n",
      "<title>title1</title>\n",
      "</song>\n",
      "<song album=\"album2\">\n",
      "<singer>singer2</singer>\n",
      "<title>title2</title>\n",
      "</song>\n",
      "<song album=\"album3\">\n",
      "<singer>singer3</singer>\n",
      "<title>title3</title>\n",
      "</song>\n",
      "</slist>]\n"
     ]
    }
   ],
   "source": [
    "# kpop.select( \"selector\" )\n",
    "kpop.select( 'slist' )"
   ]
  },
  {
   "cell_type": "code",
   "execution_count": 9,
   "metadata": {},
   "outputs": [
    {
     "data": {
      "text/plain": [
       "[<song album=\"album1\">\n",
       " <singer>singer1</singer>\n",
       " <title>title1</title>\n",
       " </song>,\n",
       " <song album=\"album2\">\n",
       " <singer>singer2</singer>\n",
       " <title>title2</title>\n",
       " </song>,\n",
       " <song album=\"album3\">\n",
       " <singer>singer3</singer>\n",
       " <title>title3</title>\n",
       " </song>]"
      ]
     },
     "execution_count": 9,
     "metadata": {},
     "output_type": "execute_result"
    }
   ],
   "source": [
    "kpop.select( 'song' )"
   ]
  },
  {
   "cell_type": "code",
   "execution_count": 11,
   "metadata": {
    "collapsed": true
   },
   "outputs": [
    {
     "data": {
      "text/plain": [
       "<slist>\n",
       "<song album=\"album1\">\n",
       "<singer>singer1</singer>\n",
       "<title>title1</title>\n",
       "</song>\n",
       "<song album=\"album2\">\n",
       "<singer>singer2</singer>\n",
       "<title>title2</title>\n",
       "</song>\n",
       "<song album=\"album3\">\n",
       "<singer>singer3</singer>\n",
       "<title>title3</title>\n",
       "</song>\n",
       "</slist>"
      ]
     },
     "execution_count": 11,
     "metadata": {},
     "output_type": "execute_result"
    }
   ],
   "source": [
    "kpop.select_one('slist') # kpop.slist"
   ]
  },
  {
   "cell_type": "code",
   "execution_count": 12,
   "metadata": {},
   "outputs": [
    {
     "data": {
      "text/plain": [
       "<song album=\"album1\">\n",
       "<singer>singer1</singer>\n",
       "<title>title1</title>\n",
       "</song>"
      ]
     },
     "execution_count": 12,
     "metadata": {},
     "output_type": "execute_result"
    }
   ],
   "source": [
    "kpop.select_one('song')# kpop.song"
   ]
  },
  {
   "cell_type": "code",
   "execution_count": 14,
   "metadata": {},
   "outputs": [
    {
     "data": {
      "text/plain": [
       "'singer1'"
      ]
     },
     "execution_count": 14,
     "metadata": {},
     "output_type": "execute_result"
    }
   ],
   "source": [
    "kpop.select_one('singer').string #kpop.singer"
   ]
  },
  {
   "cell_type": "code",
   "execution_count": 15,
   "metadata": {},
   "outputs": [
    {
     "data": {
      "text/plain": [
       "'singer1'"
      ]
     },
     "execution_count": 15,
     "metadata": {},
     "output_type": "execute_result"
    }
   ],
   "source": [
    "kpop.singer.string"
   ]
  },
  {
   "cell_type": "code",
   "execution_count": 20,
   "metadata": {},
   "outputs": [
    {
     "name": "stdout",
     "output_type": "stream",
     "text": [
      "album1\n",
      "singer1\n",
      "title1\n",
      "==========\n",
      "album2\n",
      "singer2\n",
      "title2\n",
      "==========\n",
      "album3\n",
      "singer3\n",
      "title3\n",
      "==========\n"
     ]
    }
   ],
   "source": [
    "for song in kpop.select( 'song' ):\n",
    "    print(song['album'])\n",
    "    print(song.singer.string)\n",
    "    print(song.title.string)\n",
    "    print(\"==========\")"
   ]
  },
  {
   "cell_type": "code",
   "execution_count": 4,
   "metadata": {},
   "outputs": [
    {
     "data": {
      "text/plain": [
       "<kpop>\n",
       "<slist>\n",
       "<song album=\"album1\">\n",
       "<singer>singer1</singer>\n",
       "<title>title1</title>\n",
       "</song>\n",
       "<song album=\"album2\">\n",
       "<singer>singer2</singer>\n",
       "<title>title2</title>\n",
       "</song>\n",
       "<song album=\"album3\">\n",
       "<singer>singer3</singer>\n",
       "<title>title3</title>\n",
       "</song>\n",
       "</slist>\n",
       "</kpop>"
      ]
     },
     "execution_count": 4,
     "metadata": {},
     "output_type": "execute_result"
    }
   ],
   "source": [
    "kpop"
   ]
  }
 ],
 "metadata": {
  "kernelspec": {
   "display_name": "Python 3",
   "language": "python",
   "name": "python3"
  },
  "language_info": {
   "codemirror_mode": {
    "name": "ipython",
    "version": 3
   },
   "file_extension": ".py",
   "mimetype": "text/x-python",
   "name": "python",
   "nbconvert_exporter": "python",
   "pygments_lexer": "ipython3",
   "version": "3.8.5"
  }
 },
 "nbformat": 4,
 "nbformat_minor": 4
}
