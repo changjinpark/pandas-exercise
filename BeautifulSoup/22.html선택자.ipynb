{
 "cells": [
  {
   "cell_type": "code",
   "execution_count": 1,
   "metadata": {},
   "outputs": [],
   "source": [
    "from bs4 import BeautifulSoup\n",
    "import urllib.request as REQ"
   ]
  },
  {
   "cell_type": "code",
   "execution_count": 26,
   "metadata": {},
   "outputs": [
    {
     "data": {
      "text/plain": [
       "<html><head></head><body>\n",
       "\t<h1>테스트1</h1>\n",
       "\t<h1 class=\"my\">테스트2</h1>\n",
       "\t<h1 id=\"myh2\">테스트3</h1>\n",
       "\t<h2>테스트3-1</h2>\n",
       "\t<h2>테스트3-2</h2>\n",
       "\t<h2>테스트3-3</h2>\n",
       "\t<div id=\"mydiv\">\n",
       "\t\t<span class=\"my\">테스트4</span>\n",
       "\t\t<div><span>테스트5</span></div>\n",
       "\t</div>\n",
       "\t<ul class=\"fruit\">\n",
       "\t\t<li>사과</li>\n",
       "\t\t<li>딸기</li>\n",
       "\t\t<li>포도</li>\n",
       "\t</ul>\n",
       "\t<ul class=\"biz\">\n",
       "\t\t<li>회사1</li>\n",
       "\t\t<li>회사2</li>\n",
       "\t\t<li>회사3</li>\n",
       "\t</ul>\n",
       "\t<img src=\"a.jpg\"/><br/>\n",
       "\t<img src=\"b.jpg\"/>\n",
       "\n",
       "\n",
       "\n",
       "</body></html>"
      ]
     },
     "execution_count": 26,
     "metadata": {},
     "output_type": "execute_result"
    }
   ],
   "source": [
    "fp = open( 'data/a.html')\n",
    "html = BeautifulSoup( fp, \"html5lib\")\n",
    "html"
   ]
  },
  {
   "cell_type": "markdown",
   "metadata": {},
   "source": [
    "### 태그선택자"
   ]
  },
  {
   "cell_type": "code",
   "execution_count": 4,
   "metadata": {
    "scrolled": true
   },
   "outputs": [
    {
     "data": {
      "text/plain": [
       "<h1>테스트1</h1>"
      ]
     },
     "execution_count": 4,
     "metadata": {},
     "output_type": "execute_result"
    }
   ],
   "source": [
    "html.select_one( 'h1')"
   ]
  },
  {
   "cell_type": "code",
   "execution_count": 3,
   "metadata": {},
   "outputs": [
    {
     "data": {
      "text/plain": [
       "[<h1>테스트1</h1>, <h1 class=\"my\">테스트2</h1>, <h1 id=\"myh2\">테스트3</h1>]"
      ]
     },
     "execution_count": 3,
     "metadata": {},
     "output_type": "execute_result"
    }
   ],
   "source": [
    "html.select( 'h1')"
   ]
  },
  {
   "cell_type": "code",
   "execution_count": 5,
   "metadata": {},
   "outputs": [
    {
     "data": {
      "text/plain": [
       "[<h1>테스트1</h1>,\n",
       " <h1 class=\"my\">테스트2</h1>,\n",
       " <h1 id=\"myh2\">테스트3</h1>,\n",
       " <h2>테스트3-1</h2>]"
      ]
     },
     "execution_count": 5,
     "metadata": {},
     "output_type": "execute_result"
    }
   ],
   "source": [
    "html.select( 'h1,h2')"
   ]
  },
  {
   "cell_type": "code",
   "execution_count": 6,
   "metadata": {},
   "outputs": [
    {
     "name": "stdout",
     "output_type": "stream",
     "text": [
      "테스트1\n",
      "테스트2\n",
      "테스트3\n",
      "테스트3-1\n"
     ]
    }
   ],
   "source": [
    "for h in html.select( 'h1,h2'):\n",
    "    print( h.string )"
   ]
  },
  {
   "cell_type": "markdown",
   "metadata": {},
   "source": [
    "###  #id선택자"
   ]
  },
  {
   "cell_type": "code",
   "execution_count": 9,
   "metadata": {},
   "outputs": [
    {
     "data": {
      "text/plain": [
       "<div id=\"mydiv\">\n",
       "\t\t<span class=\"my\">테스트4</span>\n",
       "\t\t<div><span>테스트5</span></div>\n",
       "\t</div>"
      ]
     },
     "execution_count": 9,
     "metadata": {},
     "output_type": "execute_result"
    }
   ],
   "source": [
    "html.select_one( '#mydiv') #id속성의 값이 mydiv"
   ]
  },
  {
   "cell_type": "code",
   "execution_count": 10,
   "metadata": {},
   "outputs": [
    {
     "data": {
      "text/plain": [
       "<h1 id=\"myh2\">테스트3</h1>"
      ]
     },
     "execution_count": 10,
     "metadata": {},
     "output_type": "execute_result"
    }
   ],
   "source": [
    "html.select_one( '#myh2')"
   ]
  },
  {
   "cell_type": "markdown",
   "metadata": {},
   "source": [
    "### 클래스선택자 .클래스명"
   ]
  },
  {
   "cell_type": "code",
   "execution_count": 11,
   "metadata": {},
   "outputs": [
    {
     "data": {
      "text/plain": [
       "[<h1 class=\"my\">테스트2</h1>, <span class=\"my\">테스트4</span>]"
      ]
     },
     "execution_count": 11,
     "metadata": {},
     "output_type": "execute_result"
    }
   ],
   "source": [
    "html.select('.my') #클래스 속성의 값이 my인것"
   ]
  },
  {
   "cell_type": "code",
   "execution_count": 12,
   "metadata": {},
   "outputs": [
    {
     "data": {
      "text/plain": [
       "[<h1 class=\"my\">테스트2</h1>]"
      ]
     },
     "execution_count": 12,
     "metadata": {},
     "output_type": "execute_result"
    }
   ],
   "source": [
    "html.select('h1.my')"
   ]
  },
  {
   "cell_type": "markdown",
   "metadata": {},
   "source": [
    "### 속성선택자  [속성명]"
   ]
  },
  {
   "cell_type": "code",
   "execution_count": 13,
   "metadata": {},
   "outputs": [
    {
     "data": {
      "text/plain": [
       "[<img src=\"a.jpg\"/>, <img src=\"b.jpg\"/>]"
      ]
     },
     "execution_count": 13,
     "metadata": {},
     "output_type": "execute_result"
    }
   ],
   "source": [
    "html.select('[src]') # src속성을 가진 tag"
   ]
  },
  {
   "cell_type": "code",
   "execution_count": 14,
   "metadata": {},
   "outputs": [
    {
     "data": {
      "text/plain": [
       "[<img src=\"a.jpg\"/>]"
      ]
     },
     "execution_count": 14,
     "metadata": {},
     "output_type": "execute_result"
    }
   ],
   "source": [
    "html.select('[src=\"a.jpg\"]')"
   ]
  },
  {
   "cell_type": "code",
   "execution_count": 15,
   "metadata": {},
   "outputs": [
    {
     "data": {
      "text/plain": [
       "[<img src=\"a.jpg\"/>, <img src=\"b.jpg\"/>]"
      ]
     },
     "execution_count": 15,
     "metadata": {},
     "output_type": "execute_result"
    }
   ],
   "source": [
    "html.select('[src*=\"jpg\"]') #src속성의 값에 jpg문자열이 있는 tag"
   ]
  },
  {
   "cell_type": "code",
   "execution_count": 16,
   "metadata": {},
   "outputs": [
    {
     "data": {
      "text/plain": [
       "[<img src=\"a.jpg\"/>]"
      ]
     },
     "execution_count": 16,
     "metadata": {},
     "output_type": "execute_result"
    }
   ],
   "source": [
    "html.select('[src^=\"a\"]')#src속성의 값이 a로 시자하는 tag"
   ]
  },
  {
   "cell_type": "markdown",
   "metadata": {},
   "source": [
    "### 후손선택자 ( 공백)"
   ]
  },
  {
   "cell_type": "code",
   "execution_count": 17,
   "metadata": {},
   "outputs": [
    {
     "data": {
      "text/plain": [
       "[<span class=\"my\">테스트4</span>, <span>테스트5</span>]"
      ]
     },
     "execution_count": 17,
     "metadata": {},
     "output_type": "execute_result"
    }
   ],
   "source": [
    "html.select('#mydiv span')"
   ]
  },
  {
   "cell_type": "markdown",
   "metadata": {},
   "source": [
    "### 자식 선택자 : > "
   ]
  },
  {
   "cell_type": "code",
   "execution_count": 20,
   "metadata": {},
   "outputs": [
    {
     "data": {
      "text/plain": [
       "[<span class=\"my\">테스트4</span>]"
      ]
     },
     "execution_count": 20,
     "metadata": {},
     "output_type": "execute_result"
    }
   ],
   "source": [
    "html.select( '#mydiv > span' ) "
   ]
  },
  {
   "cell_type": "markdown",
   "metadata": {},
   "source": [
    "### 형제선택자: +(우측만)  ~(우측 모두)"
   ]
  },
  {
   "cell_type": "code",
   "execution_count": 28,
   "metadata": {
    "collapsed": true
   },
   "outputs": [
    {
     "data": {
      "text/plain": [
       "[<h2>테스트3-1</h2>]"
      ]
     },
     "execution_count": 28,
     "metadata": {},
     "output_type": "execute_result"
    }
   ],
   "source": [
    "html.select( '#myh2 + h2')"
   ]
  },
  {
   "cell_type": "code",
   "execution_count": 29,
   "metadata": {
    "collapsed": true
   },
   "outputs": [
    {
     "data": {
      "text/plain": [
       "[<h2>테스트3-1</h2>, <h2>테스트3-2</h2>, <h2>테스트3-3</h2>]"
      ]
     },
     "execution_count": 29,
     "metadata": {},
     "output_type": "execute_result"
    }
   ],
   "source": [
    "html.select( '#myh2 ~ h2')"
   ]
  },
  {
   "cell_type": "code",
   "execution_count": 32,
   "metadata": {
    "collapsed": true
   },
   "outputs": [
    {
     "data": {
      "text/plain": [
       "[<ul class=\"fruit\">\n",
       " \t\t<li>사과</li>\n",
       " \t\t<li>딸기</li>\n",
       " \t\t<li>포도</li>\n",
       " \t</ul>,\n",
       " <ul class=\"biz\">\n",
       " \t\t<li>회사1</li>\n",
       " \t\t<li>회사2</li>\n",
       " \t\t<li>회사3</li>\n",
       " \t</ul>]"
      ]
     },
     "execution_count": 32,
     "metadata": {},
     "output_type": "execute_result"
    }
   ],
   "source": [
    "html.select( '#myh2 ~ ul')"
   ]
  },
  {
   "cell_type": "code",
   "execution_count": 27,
   "metadata": {
    "collapsed": true
   },
   "outputs": [
    {
     "data": {
      "text/plain": [
       "<html><head></head><body>\n",
       "\t<h1>테스트1</h1>\n",
       "\t<h1 class=\"my\">테스트2</h1>\n",
       "\t<h1 id=\"myh2\">테스트3</h1>\n",
       "\t<h2>테스트3-1</h2>\n",
       "\t<h2>테스트3-2</h2>\n",
       "\t<h2>테스트3-3</h2>\n",
       "\t<div id=\"mydiv\">\n",
       "\t\t<span class=\"my\">테스트4</span>\n",
       "\t\t<div><span>테스트5</span></div>\n",
       "\t</div>\n",
       "\t<ul class=\"fruit\">\n",
       "\t\t<li>사과</li>\n",
       "\t\t<li>딸기</li>\n",
       "\t\t<li>포도</li>\n",
       "\t</ul>\n",
       "\t<ul class=\"biz\">\n",
       "\t\t<li>회사1</li>\n",
       "\t\t<li>회사2</li>\n",
       "\t\t<li>회사3</li>\n",
       "\t</ul>\n",
       "\t<img src=\"a.jpg\"/><br/>\n",
       "\t<img src=\"b.jpg\"/>\n",
       "\n",
       "\n",
       "\n",
       "</body></html>"
      ]
     },
     "execution_count": 27,
     "metadata": {},
     "output_type": "execute_result"
    }
   ],
   "source": [
    "html"
   ]
  },
  {
   "cell_type": "code",
   "execution_count": null,
   "metadata": {},
   "outputs": [],
   "source": []
  }
 ],
 "metadata": {
  "kernelspec": {
   "display_name": "Python 3",
   "language": "python",
   "name": "python3"
  },
  "language_info": {
   "codemirror_mode": {
    "name": "ipython",
    "version": 3
   },
   "file_extension": ".py",
   "mimetype": "text/x-python",
   "name": "python",
   "nbconvert_exporter": "python",
   "pygments_lexer": "ipython3",
   "version": "3.8.5"
  }
 },
 "nbformat": 4,
 "nbformat_minor": 4
}
